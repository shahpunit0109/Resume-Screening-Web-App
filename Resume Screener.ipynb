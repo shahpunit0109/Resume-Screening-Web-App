{
 "cells": [
  {
   "cell_type": "code",
   "execution_count": null,
   "id": "e9484d7c",
   "metadata": {},
   "outputs": [],
   "source": [
    "import pickle\n",
    "import spacy\n",
    "import random"
   ]
  },
  {
   "cell_type": "code",
   "execution_count": null,
   "id": "1a8e99b5",
   "metadata": {},
   "outputs": [],
   "source": [
    "data = pickle.load(open('train_data.pkl','rb'))"
   ]
  },
  {
   "cell_type": "code",
   "execution_count": null,
   "id": "977b5eb2",
   "metadata": {},
   "outputs": [],
   "source": [
    "data[0]"
   ]
  },
  {
   "cell_type": "code",
   "execution_count": null,
   "id": "75f8faac",
   "metadata": {},
   "outputs": [],
   "source": [
    "nlp = spacy.blank('en')\n",
    "def train_model(train_data):\n",
    "    if 'ner' not in nlp.pipe_names:\n",
    "        ner  = nlp.create_pipe('ner')\n",
    "        nlp.add_pipe(ner , last = True)\n",
    "        \n",
    "    for _, annotation in train_data:\n",
    "        for ent in annotation['entities']:\n",
    "            ner.add_label(ent[2])\n",
    "            \n",
    "    other_pipes = [pipe for pipe in nlp.pipe_names if pipe != 'ner']\n",
    "    with nlp.disable_pipes(*other_pipes):  # only train NER\n",
    "        optimizer = nlp.begin_training()\n",
    "        for itn in range(10):\n",
    "            print(\"Starting Iteration\" + str(itn))\n",
    "            random.shuffle(train_data)\n",
    "            losses = {}\n",
    "            index = 0\n",
    "            for texts, annotations in train_data:\n",
    "                try:\n",
    "                    nlp.update(\n",
    "                        [texts],  # batch of texts\n",
    "                        [annotations],  # batch of annotations\n",
    "                        drop=0.2,  # dropout - make it harder to memorise data\n",
    "                        sgd=optimizer,\n",
    "                        losses=losses)\n",
    "                except Exception as e:\n",
    "                        pass\n",
    "                    \n",
    "            print(\"Losses\", losses)"
   ]
  },
  {
   "cell_type": "code",
   "execution_count": null,
   "id": "dc07ae30",
   "metadata": {},
   "outputs": [],
   "source": [
    "train_model(data)"
   ]
  },
  {
   "cell_type": "code",
   "execution_count": null,
   "id": "d965b3b2",
   "metadata": {},
   "outputs": [],
   "source": [
    "nlp.to_disk('nlp_model')"
   ]
  },
  {
   "cell_type": "code",
   "execution_count": null,
   "id": "afb6475e",
   "metadata": {},
   "outputs": [],
   "source": [
    "nlp_model = spacy.load('nlp_model')"
   ]
  },
  {
   "cell_type": "code",
   "execution_count": null,
   "id": "f7a56573",
   "metadata": {},
   "outputs": [],
   "source": [
    "doc = nlp_model(data[0][0])\n",
    "for ent in doc.ents:\n",
    "    print(f'{ent.label_.upper():{30}}-{ent.text}')"
   ]
  },
  {
   "cell_type": "code",
   "execution_count": null,
   "id": "e973996c",
   "metadata": {},
   "outputs": [],
   "source": [
    "! pip install PyMuPDF"
   ]
  },
  {
   "cell_type": "code",
   "execution_count": null,
   "id": "c5363f45",
   "metadata": {},
   "outputs": [],
   "source": [
    "import sys,fitz"
   ]
  },
  {
   "cell_type": "code",
   "execution_count": null,
   "id": "4db0e585",
   "metadata": {},
   "outputs": [],
   "source": [
    "fname = 'Alice Clark CV.pdf'\n",
    "doc = fitz.open(fname)\n",
    "text = \"\"\n",
    "for page in doc:\n",
    "    text = text + str(page.getText())\n",
    "tx = \" \".join(text.split('\\n'))   \n",
    "print(tx)"
   ]
  },
  {
   "cell_type": "code",
   "execution_count": null,
   "id": "2692d82b",
   "metadata": {},
   "outputs": [],
   "source": [
    "doc = nlp_model(tx)\n",
    "for ent in doc.ents:\n",
    "    print(f'{ent.label_.upper():{30}}-{ent.text}')"
   ]
  },
  {
   "cell_type": "code",
   "execution_count": null,
   "id": "1e7ee3c4",
   "metadata": {},
   "outputs": [],
   "source": []
  }
 ],
 "metadata": {
  "kernelspec": {
   "display_name": "Python 3",
   "language": "python",
   "name": "python3"
  },
  "language_info": {
   "codemirror_mode": {
    "name": "ipython",
    "version": 3
   },
   "file_extension": ".py",
   "mimetype": "text/x-python",
   "name": "python",
   "nbconvert_exporter": "python",
   "pygments_lexer": "ipython3",
   "version": "3.8.5"
  }
 },
 "nbformat": 4,
 "nbformat_minor": 5
}
